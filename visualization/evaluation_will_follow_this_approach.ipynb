{
 "cells": [
  {
   "cell_type": "code",
   "execution_count": 1,
   "metadata": {},
   "outputs": [
    {
     "name": "stderr",
     "output_type": "stream",
     "text": [
      "/tmp/ipykernel_35195/1892498119.py:7: TqdmWarning: IProgress not found. Please update jupyter and ipywidgets. See https://ipywidgets.readthedocs.io/en/stable/user_install.html\n",
      "  from tqdm.autonotebook import tqdm\n"
     ]
    }
   ],
   "source": [
    "import numpy as np\n",
    "import os\n",
    "from collections import defaultdict\n",
    "import numpy as np\n",
    "from sklearn.metrics import mean_squared_error\n",
    "\n",
    "from tqdm.autonotebook import tqdm"
   ]
  },
  {
   "cell_type": "code",
   "execution_count": 2,
   "metadata": {},
   "outputs": [],
   "source": [
    "from dataset import SeqGreenEarthNetDataset, ADDITIONAL_INFO_DICT"
   ]
  },
  {
   "cell_type": "code",
   "execution_count": 3,
   "metadata": {},
   "outputs": [],
   "source": [
    "os.makedirs('example_predictions', exist_ok=True)"
   ]
  },
  {
   "cell_type": "code",
   "execution_count": null,
   "metadata": {},
   "outputs": [],
   "source": [
    "info_list = list(ADDITIONAL_INFO_DICT.keys())\n",
    "\n",
    "ds_train = SeqGreenEarthNetDataset(\n",
    "    folder=\"example_preprocessed_dataset/\",\n",
    "    input_channels=[\"red\", \"green\", \"blue\"],\n",
    "    target_channels=[\"ndvi\", \"class\"],\n",
    "    additional_info_list=info_list,\n",
    "    time=True,\n",
    "    use_mask=True,\n",
    "    return_filename=True\n",
    ")"
   ]
  },
  {
   "cell_type": "code",
   "execution_count": 5,
   "metadata": {},
   "outputs": [
    {
     "data": {
      "application/vnd.jupyter.widget-view+json": {
       "model_id": "c2bd55cce41b43f88dbb83e6a70288f3",
       "version_major": 2,
       "version_minor": 0
      },
      "text/plain": [
       "  0%|          | 0/4 [00:00<?, ?it/s]"
      ]
     },
     "metadata": {},
     "output_type": "display_data"
    },
    {
     "name": "stdout",
     "output_type": "stream",
     "text": [
      "example_preprocessed_dataset/JAS20_minicube_164_33UVR_50.25_14.71_15.npz\n",
      "example_preprocessed_dataset/JAS20_minicube_164_33UVR_50.25_14.71_10.npz\n",
      "example_preprocessed_dataset/JAS20_minicube_164_33UVR_50.25_14.71_5.npz\n",
      "example_preprocessed_dataset/JAS20_minicube_164_33UVR_50.25_14.71_1.npz\n"
     ]
    }
   ],
   "source": [
    "# Make predictions\n",
    "for batch in tqdm(ds_train):\n",
    "    print(batch[\"filename\"])\n",
    "    pred =  np.zeros_like(batch[\"inputs\"][1:2, 0])\n",
    "    np.savez_compressed(\"example_predictions/\" + str(batch[\"filename\"].name), pred=pred)\n"
   ]
  },
  {
   "cell_type": "markdown",
   "metadata": {},
   "source": [
    "# Evaluation "
   ]
  },
  {
   "cell_type": "code",
   "execution_count": 6,
   "metadata": {},
   "outputs": [],
   "source": [
    "CLASSES2EVAL = [10, 30, 40] # Only evaluate on these classes"
   ]
  },
  {
   "cell_type": "code",
   "execution_count": 7,
   "metadata": {},
   "outputs": [],
   "source": [
    "info_list = list(ADDITIONAL_INFO_DICT.keys())\n",
    "\n",
    "ds_test = SeqGreenEarthNetDataset(\n",
    "    folder=\"example_preprocessed_dataset/\",\n",
    "    input_channels=[\"red\", \"green\", \"blue\"],\n",
    "    target_channels=[\"evi\", \"class\"],\n",
    "    additional_info_list=info_list,\n",
    "    time=True,\n",
    "    use_mask=True,\n",
    "    return_filename=True\n",
    ")"
   ]
  },
  {
   "cell_type": "code",
   "execution_count": 8,
   "metadata": {},
   "outputs": [],
   "source": [
    "class RMSEimagewise():\n",
    "    def __init__(self, name):\n",
    "        self.name = name\n",
    "        self.rmse = defaultdict(lambda: np.array([]))  \n",
    "        \n",
    "    def update(self, class_idx, y_gt, y_pred):\n",
    "        \"\"\"Update RMSE values for a specific class index.\"\"\"\n",
    "        self.rmse[class_idx] = np.append(self.rmse[class_idx], mean_squared_error(y_gt, y_pred))\n",
    "\n",
    "    def compute(self):\n",
    "        \"\"\"Compute the mean RMSE for all class indices.\"\"\"\n",
    "        rmse = {\"name\": self.name}\n",
    "        for class_idx in self.rmse.keys():\n",
    "            rmse[class_idx] = float(np.mean(self.rmse[class_idx]))\n",
    "        return rmse\n",
    "    \n",
    "    def __repr__(self):\n",
    "        \"\"\"Print the computed RMSE values in a tabular format.\"\"\"\n",
    "        rmse = self.compute()\n",
    "        output = f\"{'Class':<10}{'RMSE':<10}\\n\"\n",
    "        output += \"-\" * 20 + \"\\n\"\n",
    "        for class_idx in rmse.keys():\n",
    "            if class_idx == \"name\":\n",
    "                continue\n",
    "            output += f\"{class_idx:<10}{rmse[class_idx]:<10.4f}\\n\"\n",
    "        return output\n",
    "\n",
    "    def reset(self):\n",
    "        \"\"\"Reset the stored RMSE values.\"\"\"\n",
    "        self.rmse = defaultdict(lambda: np.array([]))\n",
    "\n",
    "    def set_name(self, name):\n",
    "        \"\"\"Set a new name for the RMSE tracker.\"\"\"\n",
    "        self.name = name\n",
    "\n",
    "    def get_class_rmse(self, class_idx):\n",
    "        \"\"\"Retrieve the RMSE values for a specific class index.\"\"\"\n",
    "        return self.rmse[class_idx] if class_idx in self.rmse else np.array([])"
   ]
  },
  {
   "cell_type": "code",
   "execution_count": null,
   "metadata": {},
   "outputs": [
    {
     "data": {
      "application/vnd.jupyter.widget-view+json": {
       "model_id": "649d540bf9c64a0a8fa64d3a8647a036",
       "version_major": 2,
       "version_minor": 0
      },
      "text/plain": [
       "  0%|          | 0/4 [00:00<?, ?it/s]"
      ]
     },
     "metadata": {},
     "output_type": "display_data"
    },
    {
     "data": {
      "text/plain": [
       "Class     RMSE      \n",
       "--------------------\n",
       "10        0.3248    \n",
       "30        0.2385    \n",
       "40        0.1637    "
      ]
     },
     "execution_count": 9,
     "metadata": {},
     "output_type": "execute_result"
    }
   ],
   "source": [
    "stats = RMSEimagewise(\"RMSE\")\n",
    "\n",
    "for idx, batch in enumerate(tqdm(ds_test)):\n",
    "\n",
    "    pred = np.load(\"example_predictions/\" + str(batch[\"filename\"].name))[\"pred\"]\n",
    "    print(pred.shape)\n",
    "    assert pred.shape == (1, 128, 128)\n",
    "    evi = batch[\"targets\"][0, 0:1]\n",
    "    class_mask = batch[\"targets\"][0, 1:2]\n",
    "\n",
    "    for class_idx in CLASSES2EVAL:\n",
    "\n",
    "        # NOTE: The evi channel should be in range [-1, 1], but due to the preprocessing and\n",
    "        #  noise on cameras, it might not be the case -> we filter out invalid values (consider \n",
    "        # to adjust the evi channels in train phase)\n",
    "        valid_mask = (class_mask == class_idx) & (~np.isnan(evi)) & (evi >= -1) & (evi <= 1)\n",
    " \n",
    "        gt = evi[valid_mask]\n",
    "        pred_act = pred[valid_mask]\n",
    "    \n",
    "        if len(gt) == 0:\n",
    "            continue\n",
    "\n",
    "        stats.update(class_idx, gt, pred_act)\n",
    "\n",
    "\n",
    "stats\n",
    "\n"
   ]
  }
 ],
 "metadata": {
  "kernelspec": {
   "display_name": "unit2025",
   "language": "python",
   "name": "python3"
  },
  "language_info": {
   "codemirror_mode": {
    "name": "ipython",
    "version": 3
   },
   "file_extension": ".py",
   "mimetype": "text/x-python",
   "name": "python",
   "nbconvert_exporter": "python",
   "pygments_lexer": "ipython3",
   "version": "3.13.2"
  }
 },
 "nbformat": 4,
 "nbformat_minor": 2
}
